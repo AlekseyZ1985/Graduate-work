{
 "cells": [
  {
   "cell_type": "code",
   "execution_count": 1,
   "id": "6e72b001",
   "metadata": {},
   "outputs": [],
   "source": [
    "import pandas as pd\n",
    "import matplotlib.pyplot as plt\n",
    "import pickle\n",
    "from sklearn.ensemble import RandomForestClassifier\n",
    "from sklearn.linear_model import LogisticRegression, LinearRegression\n",
    "from sklearn.metrics import accuracy_score, confusion_matrix, mean_absolute_error, roc_curve, roc_auc_score\n",
    "from sklearn.model_selection import train_test_split, cross_val_score, cross_validate\n",
    "from sklearn.neural_network import MLPClassifier\n",
    "import pandas as pd\n",
    "from sklearn.preprocessing import OneHotEncoder\n",
    "from sklearn.preprocessing import StandardScaler\n",
    "from sklearn.svm import SVC\n",
    "from sklearn.model_selection import GridSearchCV, RandomizedSearchCV\n",
    "from sklearn.tree import DecisionTreeClassifier\n",
    "from sklearn.neighbors import KNeighborsClassifier\n",
    "from sklearn.metrics import roc_curve, precision_recall_curve, recall_score\n",
    "import matplotlib.pyplot as plt\n",
    "plt.style.use(\"ggplot\")\n",
    "from sklearn.metrics import roc_curve, precision_recall_curve, auc, make_scorer, recall_score, accuracy_score, precision_score, confusion_matrix\n",
    "import numpy as np\n",
    "import pandas as pd\n",
    "import matplotlib.pyplot as plt\n",
    "import seaborn as sns\n",
    "import catboost as cb\n",
    "from imblearn.under_sampling import NearMiss\n",
    "from imblearn.over_sampling import SMOTE\n",
    "import xgboost\n",
    "from imblearn.ensemble import BalancedBaggingClassifier \n",
    "from imblearn.ensemble import BalancedRandomForestClassifier \n",
    "import warnings\n",
    "warnings.filterwarnings('ignore')"
   ]
  },
  {
   "cell_type": "markdown",
   "id": "6d2a17cf",
   "metadata": {},
   "source": [
    "## Загрузка данных"
   ]
  },
  {
   "cell_type": "code",
   "execution_count": 2,
   "id": "4e646ff9",
   "metadata": {},
   "outputs": [],
   "source": [
    "df1 = pd.read_csv('ga_hits.csv')"
   ]
  },
  {
   "cell_type": "code",
   "execution_count": 3,
   "id": "73af22cc",
   "metadata": {},
   "outputs": [],
   "source": [
    "df2 = pd.read_csv('ga_sessions.csv')"
   ]
  },
  {
   "cell_type": "code",
   "execution_count": 4,
   "id": "9557f7b9",
   "metadata": {},
   "outputs": [
    {
     "data": {
      "text/plain": [
       "(15726470, 11)"
      ]
     },
     "execution_count": 4,
     "metadata": {},
     "output_type": "execute_result"
    }
   ],
   "source": [
    "df1.shape"
   ]
  },
  {
   "cell_type": "code",
   "execution_count": 5,
   "id": "a07835ca",
   "metadata": {},
   "outputs": [
    {
     "data": {
      "text/plain": [
       "(1860042, 18)"
      ]
     },
     "execution_count": 5,
     "metadata": {},
     "output_type": "execute_result"
    }
   ],
   "source": [
    "df2.shape"
   ]
  },
  {
   "cell_type": "code",
   "execution_count": 6,
   "id": "d547cec6",
   "metadata": {},
   "outputs": [
    {
     "data": {
      "text/plain": [
       "event_value       15726470\n",
       "hit_time           9160322\n",
       "hit_referer        6274804\n",
       "event_label        3760184\n",
       "session_id               0\n",
       "hit_date                 0\n",
       "hit_number               0\n",
       "hit_type                 0\n",
       "hit_page_path            0\n",
       "event_category           0\n",
       "event_action             0\n",
       "dtype: int64"
      ]
     },
     "execution_count": 6,
     "metadata": {},
     "output_type": "execute_result"
    }
   ],
   "source": [
    "df1.isna().sum().sort_values(ascending=False)"
   ]
  },
  {
   "cell_type": "markdown",
   "id": "21273d5e",
   "metadata": {},
   "source": [
    "### Работа с целевой переменной"
   ]
  },
  {
   "cell_type": "code",
   "execution_count": 7,
   "id": "30531c66",
   "metadata": {},
   "outputs": [],
   "source": [
    "df1.loc[df1['event_action'].isin([\"sub_car_claim_click\", \"sub_open_dialog_click\", \"sub_custom_question_submit_click\",\"sub_call_number_click\", \"sub_callback_submit_click\", \"sub_submit_success\", \"sub_car_request_submit_click\", \"sub_car_claim_submit_click\"]) == False, 'event_action'] = 0\n",
    "df1.loc[df1['event_action'].isin([\"sub_car_claim_click\", \"sub_open_dialog_click\", \"sub_custom_question_submit_click\",\"sub_call_number_click\", \"sub_callback_submit_click\", \"sub_submit_success\", \"sub_car_request_submit_click\", \"sub_car_claim_submit_click\"]) == True, 'event_action'] = 1"
   ]
  },
  {
   "cell_type": "code",
   "execution_count": 8,
   "id": "495d8c13",
   "metadata": {},
   "outputs": [
    {
     "data": {
      "text/plain": [
       "0    15621562\n",
       "1      104908\n",
       "Name: event_action, dtype: int64"
      ]
     },
     "execution_count": 8,
     "metadata": {},
     "output_type": "execute_result"
    }
   ],
   "source": [
    "df1[\"event_action\"].value_counts()"
   ]
  },
  {
   "cell_type": "markdown",
   "id": "63cf1551",
   "metadata": {},
   "source": [
    "## Объединение датасетов"
   ]
  },
  {
   "cell_type": "code",
   "execution_count": 9,
   "id": "2bfa9944",
   "metadata": {},
   "outputs": [],
   "source": [
    "df1_new = df1.groupby('session_id').agg({'event_action': 'max', 'hit_number': 'max'}).reset_index()"
   ]
  },
  {
   "cell_type": "code",
   "execution_count": 10,
   "id": "71b5b9a8",
   "metadata": {},
   "outputs": [
    {
     "data": {
      "text/plain": [
       "3      294712\n",
       "2      178446\n",
       "4      166282\n",
       "8      101211\n",
       "6       65161\n",
       "        ...  \n",
       "357         1\n",
       "312         1\n",
       "384         1\n",
       "457         1\n",
       "414         1\n",
       "Name: hit_number, Length: 438, dtype: int64"
      ]
     },
     "execution_count": 10,
     "metadata": {},
     "output_type": "execute_result"
    }
   ],
   "source": [
    "df1_new[\"hit_number\"].value_counts()"
   ]
  },
  {
   "cell_type": "code",
   "execution_count": 11,
   "id": "e1638603",
   "metadata": {},
   "outputs": [],
   "source": [
    "filtered_df = df1_new[((df1_new[\"event_action\"] == 1) & (df1_new['hit_number'] > 1) & (df1_new['hit_number'] < 50))]"
   ]
  },
  {
   "cell_type": "code",
   "execution_count": 12,
   "id": "d069d61d",
   "metadata": {},
   "outputs": [],
   "source": [
    "stats_5 = filtered_df.groupby(['hit_number'], as_index=False)[['session_id']].count().sort_values(\"hit_number\", ascending=False)\n",
    "stats_5 = stats_5.rename(columns={'session_id': 'count'})"
   ]
  },
  {
   "cell_type": "code",
   "execution_count": 18,
   "id": "b25fcd59",
   "metadata": {},
   "outputs": [
    {
     "data": {
      "image/png": "[encoded data removed]",
      "text/plain": [
       "<Figure size 1440x720 with 1 Axes>"
      ]
     },
     "metadata": {},
     "output_type": "display_data"
    }
   ],
   "source": [
    "plt.figure(figsize=(20, 10))\n",
    "plt.bar(stats_5['hit_number'], stats_5['count'], color=['springgreen', 'dodgerblue'], width = 0.9)\n",
    "plt.xlabel('Количество событий')\n",
    "plt.xticks(rotation = 45, ha = \"right\", rotation_mode = \"anchor\")\n",
    "plt.ylabel('Количество')\n",
    "plt.title('Распределение активности от количества пользователей');"
   ]
  },
  {
   "cell_type": "code",
   "execution_count": 13,
   "id": "f550e468",
   "metadata": {
    "scrolled": true
   },
   "outputs": [
    {
     "data": {
      "image/png": "[encoded data removed]",
      "text/plain": [
       "<Figure size 612.125x360 with 1 Axes>"
      ]
     },
     "metadata": {},
     "output_type": "display_data"
    }
   ],
   "source": [
    "sns.catplot(x='hit_number',\n",
    "            hue='event_action',\n",
    "            kind='count',\n",
    "            data=filtered_df,\n",
    "            height = 5,\n",
    "            aspect = 1.5);"
   ]
  },
  {
   "cell_type": "code",
   "execution_count": 13,
   "id": "75f3ac42",
   "metadata": {},
   "outputs": [],
   "source": [
    "filtered_df2 = df1_new[((df1_new['hit_number'] > 1) & (df1_new['hit_number'] < 40))]"
   ]
  },
  {
   "cell_type": "code",
   "execution_count": 14,
   "id": "cbbc70d1",
   "metadata": {},
   "outputs": [
    {
     "data": {
      "image/png": "[encoded data removed]",
      "text/plain": [
       "<Figure size 792.125x360 with 1 Axes>"
      ]
     },
     "metadata": {},
     "output_type": "display_data"
    }
   ],
   "source": [
    "sns.catplot(x='hit_number',\n",
    "            hue='event_action',\n",
    "            kind='count',\n",
    "            data=filtered_df2,\n",
    "            height = 5,\n",
    "            aspect = 2);"
   ]
  },
  {
   "cell_type": "code",
   "execution_count": 15,
   "id": "9725e2cf",
   "metadata": {},
   "outputs": [
    {
     "data": {
      "text/plain": [
       "0"
      ]
     },
     "execution_count": 15,
     "metadata": {},
     "output_type": "execute_result"
    }
   ],
   "source": [
    "df1_new['session_id'].duplicated().sum()"
   ]
  },
  {
   "cell_type": "code",
   "execution_count": 16,
   "id": "76ba0ef4",
   "metadata": {},
   "outputs": [],
   "source": [
    "df_all = df1_new.merge(df2, how = \"left\")"
   ]
  },
  {
   "cell_type": "markdown",
   "id": "c1c8e054",
   "metadata": {},
   "source": [
    "### Пропуски,обработка данных"
   ]
  },
  {
   "cell_type": "code",
   "execution_count": 17,
   "id": "1108eac4",
   "metadata": {},
   "outputs": [],
   "source": [
    "def print_useful_rows_info(df):\n",
    "    print('Количество полностью заполненных объектов из всей выборки:', len(df.dropna()))\n",
    "    print('Процент полностью заполненных объектов из всей выборки:', round(len(df.dropna()) / len(df) * 100, 2))"
   ]
  },
  {
   "cell_type": "code",
   "execution_count": 18,
   "id": "aaad9dda",
   "metadata": {},
   "outputs": [
    {
     "name": "stdout",
     "output_type": "stream",
     "text": [
      "Количество полностью заполненных объектов из всей выборки: 13829\n",
      "Процент полностью заполненных объектов из всей выборки: 0.8\n"
     ]
    }
   ],
   "source": [
    "print_useful_rows_info(df_all)"
   ]
  },
  {
   "cell_type": "code",
   "execution_count": 19,
   "id": "9783f266",
   "metadata": {
    "scrolled": true
   },
   "outputs": [
    {
     "name": "stdout",
     "output_type": "stream",
     "text": [
      "Процент пропущенных значений:\n"
     ]
    },
    {
     "data": {
      "text/plain": [
       "device_model                99.131678\n",
       "utm_keyword                 58.981327\n",
       "device_os                   58.590000\n",
       "device_brand                20.150927\n",
       "utm_adcontent               17.668583\n",
       "utm_campaign                11.393397\n",
       "utm_source                   0.139513\n",
       "geo_country                  0.135131\n",
       "device_browser               0.135131\n",
       "device_screen_resolution     0.135131\n",
       "device_category              0.135131\n",
       "geo_city                     0.135131\n",
       "utm_medium                   0.135131\n",
       "visit_number                 0.135131\n",
       "visit_time                   0.135131\n",
       "visit_date                   0.135131\n",
       "client_id                    0.135131\n",
       "event_action                 0.000000\n",
       "hit_number                   0.000000\n",
       "session_id                   0.000000\n",
       "dtype: float64"
      ]
     },
     "execution_count": 19,
     "metadata": {},
     "output_type": "execute_result"
    }
   ],
   "source": [
    "missing_values = ((df_all.isna().sum() / len(df_all)) * 100).sort_values(ascending=False)\n",
    "print('Процент пропущенных значений:')\n",
    "missing_values"
   ]
  },
  {
   "cell_type": "code",
   "execution_count": 20,
   "id": "7584ba82",
   "metadata": {},
   "outputs": [],
   "source": [
    "df_all = df_all.drop(['device_model', 'utm_keyword', \"utm_adcontent\", 'session_id', \"visit_time\", \"client_id\", \"device_screen_resolution\", 'visit_number'], axis=1) "
   ]
  },
  {
   "cell_type": "code",
   "execution_count": 21,
   "id": "cefcc8fd",
   "metadata": {},
   "outputs": [
    {
     "data": {
      "text/plain": [
       "event_action       0\n",
       "hit_number         0\n",
       "visit_date         0\n",
       "utm_source         0\n",
       "utm_medium         0\n",
       "utm_campaign       0\n",
       "device_category    0\n",
       "device_brand       0\n",
       "device_browser     0\n",
       "geo_country        0\n",
       "geo_city           0\n",
       "dtype: int64"
      ]
     },
     "execution_count": 21,
     "metadata": {},
     "output_type": "execute_result"
    }
   ],
   "source": [
    "df_all = df_all[~(df_all.geo_city.isna())]\n",
    "df_all = df_all[~(df_all.utm_source.isna())]\n",
    "df_all = df_all.drop(['device_os'], axis=1) \n",
    "df_all.device_brand = df_all.device_brand.fillna('other')\n",
    "df_all = df_all[~(df_all.utm_campaign.isna())]\n",
    "df_all.isna().sum().sort_values(ascending=False)"
   ]
  },
  {
   "cell_type": "code",
   "execution_count": 22,
   "id": "a0c8d9f7",
   "metadata": {},
   "outputs": [],
   "source": [
    "df_all[\"visit_date\"] = pd.to_datetime(df_all.visit_date, utc=True)"
   ]
  },
  {
   "cell_type": "code",
   "execution_count": 23,
   "id": "de84c25e",
   "metadata": {},
   "outputs": [],
   "source": [
    "df_all['month'] = df_all.visit_date.apply (lambda x: x.month)"
   ]
  },
  {
   "cell_type": "code",
   "execution_count": 24,
   "id": "52ebd38b",
   "metadata": {},
   "outputs": [],
   "source": [
    "df_all = df_all.drop(['visit_date'], axis=1) \n",
    "df_all.month = df_all.month.astype(int)"
   ]
  },
  {
   "cell_type": "code",
   "execution_count": 25,
   "id": "c6bf4a5a",
   "metadata": {},
   "outputs": [],
   "source": [
    "df_all.loc[df_all['utm_medium'].isin([\"(none)\", \"referral\", \"organic\"]) == False, 'utm_medium'] = \"cost\"\n",
    "df_all.loc[df_all['utm_medium'].isin([\"(none)\", \"referral\", \"organic\"]) == True, 'utm_medium'] = \"organical\""
   ]
  },
  {
   "cell_type": "code",
   "execution_count": 26,
   "id": "9bd0e2a3",
   "metadata": {},
   "outputs": [
    {
     "data": {
      "text/plain": [
       "cost         1073478\n",
       "organical     463425\n",
       "Name: utm_medium, dtype: int64"
      ]
     },
     "execution_count": 26,
     "metadata": {},
     "output_type": "execute_result"
    }
   ],
   "source": [
    "df_all[\"utm_medium\"].value_counts()"
   ]
  },
  {
   "cell_type": "code",
   "execution_count": 27,
   "id": "1647dc39",
   "metadata": {},
   "outputs": [],
   "source": [
    "drop_utm = df_all.utm_campaign.value_counts()[df_all.utm_campaign.value_counts()<10000].index\n",
    "df_all.utm_campaign[df_all.utm_campaign.isin(drop_utm)] = \"rare\""
   ]
  },
  {
   "cell_type": "markdown",
   "id": "d5c33d1a",
   "metadata": {},
   "source": [
    "## Создание частотных переменных"
   ]
  },
  {
   "cell_type": "code",
   "execution_count": 28,
   "id": "36b889f7",
   "metadata": {},
   "outputs": [],
   "source": [
    "fe1 = df_all.groupby(\"utm_source\").size()/len(df_all)\n",
    "df_all[\"utm_source_freq\"] = df_all[\"utm_source\"].map(fe1)\n",
    "fe2 = df_all.groupby(\"utm_medium\").size()/len(df_all)\n",
    "df_all[\"utm_medium_freq\"] = df_all[\"utm_medium\"].map(fe2)\n",
    "fe3 = df_all.groupby(\"device_category\").size()/len(df_all)\n",
    "df_all[\"device_category_freq\"] = df_all[\"device_category\"].map(fe3)\n",
    "fe4 = df_all.groupby(\"device_brand\").size()/len(df_all)\n",
    "df_all[\"device_brand_freq\"] = df_all[\"device_brand\"].map(fe4)\n",
    "fe5 = df_all.groupby(\"device_browser\").size()/len(df_all)\n",
    "df_all[\"device_browser_freq\"] = df_all[\"device_browser\"].map(fe5)\n",
    "fe8 = df_all.groupby(\"geo_country\").size()/len(df_all)\n",
    "df_all[\"geo_country_freq\"] = df_all[\"geo_country\"].map(fe8)\n",
    "fe7 = df_all.groupby(\"geo_city\").size()/len(df_all)\n",
    "df_all[\"geo_city_freq\"] = df_all[\"geo_city\"].map(fe7)\n",
    "fe6 = df_all.groupby(\"utm_campaign\").size()/len(df_all)\n",
    "df_all[\"utm_campaign_freq\"] = df_all[\"utm_campaign\"].map(fe6)"
   ]
  },
  {
   "cell_type": "code",
   "execution_count": 29,
   "id": "0b3d7788",
   "metadata": {},
   "outputs": [
    {
     "data": {
      "text/plain": [
       "event_action            1.000000\n",
       "hit_number              0.199655\n",
       "utm_campaign_freq       0.054173\n",
       "utm_source_freq         0.010748\n",
       "geo_city_freq           0.007238\n",
       "device_brand_freq       0.006871\n",
       "geo_country_freq        0.005080\n",
       "device_browser_freq     0.000171\n",
       "device_category_freq   -0.010776\n",
       "month                  -0.057792\n",
       "utm_medium_freq        -0.062120\n",
       "Name: event_action, dtype: float64"
      ]
     },
     "execution_count": 29,
     "metadata": {},
     "output_type": "execute_result"
    }
   ],
   "source": [
    "corr_matrix = df_all.corr()\n",
    "corr_matrix[\"event_action\"].sort_values(ascending=False)"
   ]
  },
  {
   "cell_type": "markdown",
   "id": "495d051c",
   "metadata": {},
   "source": [
    "### Стандартизация"
   ]
  },
  {
   "cell_type": "code",
   "execution_count": 30,
   "id": "1548d624",
   "metadata": {},
   "outputs": [
    {
     "data": {
      "text/html": [
       "<style>#sk-container-id-1 {color: black;background-color: white;}#sk-container-id-1 pre{padding: 0;}#sk-container-id-1 div.sk-toggleable {background-color: white;}#sk-container-id-1 label.sk-toggleable__label {cursor: pointer;display: block;width: 100%;margin-bottom: 0;padding: 0.3em;box-sizing: border-box;text-align: center;}#sk-container-id-1 label.sk-toggleable__label-arrow:before {content: \"▸\";float: left;margin-right: 0.25em;color: #696969;}#sk-container-id-1 label.sk-toggleable__label-arrow:hover:before {color: black;}#sk-container-id-1 div.sk-estimator:hover label.sk-toggleable__label-arrow:before {color: black;}#sk-container-id-1 div.sk-toggleable__content {max-height: 0;max-width: 0;overflow: hidden;text-align: left;background-color: #f0f8ff;}#sk-container-id-1 div.sk-toggleable__content pre {margin: 0.2em;color: black;border-radius: 0.25em;background-color: #f0f8ff;}#sk-container-id-1 input.sk-toggleable__control:checked~div.sk-toggleable__content {max-height: 200px;max-width: 100%;overflow: auto;}#sk-container-id-1 input.sk-toggleable__control:checked~label.sk-toggleable__label-arrow:before {content: \"▾\";}#sk-container-id-1 div.sk-estimator input.sk-toggleable__control:checked~label.sk-toggleable__label {background-color: #d4ebff;}#sk-container-id-1 div.sk-label input.sk-toggleable__control:checked~label.sk-toggleable__label {background-color: #d4ebff;}#sk-container-id-1 input.sk-hidden--visually {border: 0;clip: rect(1px 1px 1px 1px);clip: rect(1px, 1px, 1px, 1px);height: 1px;margin: -1px;overflow: hidden;padding: 0;position: absolute;width: 1px;}#sk-container-id-1 div.sk-estimator {font-family: monospace;background-color: #f0f8ff;border: 1px dotted black;border-radius: 0.25em;box-sizing: border-box;margin-bottom: 0.5em;}#sk-container-id-1 div.sk-estimator:hover {background-color: #d4ebff;}#sk-container-id-1 div.sk-parallel-item::after {content: \"\";width: 100%;border-bottom: 1px solid gray;flex-grow: 1;}#sk-container-id-1 div.sk-label:hover label.sk-toggleable__label {background-color: #d4ebff;}#sk-container-id-1 div.sk-serial::before {content: \"\";position: absolute;border-left: 1px solid gray;box-sizing: border-box;top: 0;bottom: 0;left: 50%;z-index: 0;}#sk-container-id-1 div.sk-serial {display: flex;flex-direction: column;align-items: center;background-color: white;padding-right: 0.2em;padding-left: 0.2em;position: relative;}#sk-container-id-1 div.sk-item {position: relative;z-index: 1;}#sk-container-id-1 div.sk-parallel {display: flex;align-items: stretch;justify-content: center;background-color: white;position: relative;}#sk-container-id-1 div.sk-item::before, #sk-container-id-1 div.sk-parallel-item::before {content: \"\";position: absolute;border-left: 1px solid gray;box-sizing: border-box;top: 0;bottom: 0;left: 50%;z-index: -1;}#sk-container-id-1 div.sk-parallel-item {display: flex;flex-direction: column;z-index: 1;position: relative;background-color: white;}#sk-container-id-1 div.sk-parallel-item:first-child::after {align-self: flex-end;width: 50%;}#sk-container-id-1 div.sk-parallel-item:last-child::after {align-self: flex-start;width: 50%;}#sk-container-id-1 div.sk-parallel-item:only-child::after {width: 0;}#sk-container-id-1 div.sk-dashed-wrapped {border: 1px dashed gray;margin: 0 0.4em 0.5em 0.4em;box-sizing: border-box;padding-bottom: 0.4em;background-color: white;}#sk-container-id-1 div.sk-label label {font-family: monospace;font-weight: bold;display: inline-block;line-height: 1.2em;}#sk-container-id-1 div.sk-label-container {text-align: center;}#sk-container-id-1 div.sk-container {/* jupyter's `normalize.less` sets `[hidden] { display: none; }` but bootstrap.min.css set `[hidden] { display: none !important; }` so we also need the `!important` here to be able to override the default hidden behavior on the sphinx rendered scikit-learn.org. See: https://github.com/scikit-learn/scikit-learn/issues/21755 */display: inline-block !important;position: relative;}#sk-container-id-1 div.sk-text-repr-fallback {display: none;}</style><div id=\"sk-container-id-1\" class=\"sk-top-container\"><div class=\"sk-text-repr-fallback\"><pre>StandardScaler()</pre><b>In a Jupyter environment, please rerun this cell to show the HTML representation or trust the notebook. <br />On GitHub, the HTML representation is unable to render, please try loading this page with nbviewer.org.</b></div><div class=\"sk-container\" hidden><div class=\"sk-item\"><div class=\"sk-estimator sk-toggleable\"><input class=\"sk-toggleable__control sk-hidden--visually\" id=\"sk-estimator-id-1\" type=\"checkbox\" checked><label for=\"sk-estimator-id-1\" class=\"sk-toggleable__label sk-toggleable__label-arrow\">StandardScaler</label><div class=\"sk-toggleable__content\"><pre>StandardScaler()</pre></div></div></div></div></div>"
      ],
      "text/plain": [
       "StandardScaler()"
      ]
     },
     "execution_count": 30,
     "metadata": {},
     "output_type": "execute_result"
    }
   ],
   "source": [
    "std_scaler = StandardScaler()\n",
    "std_scaler"
   ]
  },
  {
   "cell_type": "code",
   "execution_count": 31,
   "id": "e20eb30b",
   "metadata": {},
   "outputs": [
    {
     "data": {
      "text/html": [
       "<style>#sk-container-id-2 {color: black;background-color: white;}#sk-container-id-2 pre{padding: 0;}#sk-container-id-2 div.sk-toggleable {background-color: white;}#sk-container-id-2 label.sk-toggleable__label {cursor: pointer;display: block;width: 100%;margin-bottom: 0;padding: 0.3em;box-sizing: border-box;text-align: center;}#sk-container-id-2 label.sk-toggleable__label-arrow:before {content: \"▸\";float: left;margin-right: 0.25em;color: #696969;}#sk-container-id-2 label.sk-toggleable__label-arrow:hover:before {color: black;}#sk-container-id-2 div.sk-estimator:hover label.sk-toggleable__label-arrow:before {color: black;}#sk-container-id-2 div.sk-toggleable__content {max-height: 0;max-width: 0;overflow: hidden;text-align: left;background-color: #f0f8ff;}#sk-container-id-2 div.sk-toggleable__content pre {margin: 0.2em;color: black;border-radius: 0.25em;background-color: #f0f8ff;}#sk-container-id-2 input.sk-toggleable__control:checked~div.sk-toggleable__content {max-height: 200px;max-width: 100%;overflow: auto;}#sk-container-id-2 input.sk-toggleable__control:checked~label.sk-toggleable__label-arrow:before {content: \"▾\";}#sk-container-id-2 div.sk-estimator input.sk-toggleable__control:checked~label.sk-toggleable__label {background-color: #d4ebff;}#sk-container-id-2 div.sk-label input.sk-toggleable__control:checked~label.sk-toggleable__label {background-color: #d4ebff;}#sk-container-id-2 input.sk-hidden--visually {border: 0;clip: rect(1px 1px 1px 1px);clip: rect(1px, 1px, 1px, 1px);height: 1px;margin: -1px;overflow: hidden;padding: 0;position: absolute;width: 1px;}#sk-container-id-2 div.sk-estimator {font-family: monospace;background-color: #f0f8ff;border: 1px dotted black;border-radius: 0.25em;box-sizing: border-box;margin-bottom: 0.5em;}#sk-container-id-2 div.sk-estimator:hover {background-color: #d4ebff;}#sk-container-id-2 div.sk-parallel-item::after {content: \"\";width: 100%;border-bottom: 1px solid gray;flex-grow: 1;}#sk-container-id-2 div.sk-label:hover label.sk-toggleable__label {background-color: #d4ebff;}#sk-container-id-2 div.sk-serial::before {content: \"\";position: absolute;border-left: 1px solid gray;box-sizing: border-box;top: 0;bottom: 0;left: 50%;z-index: 0;}#sk-container-id-2 div.sk-serial {display: flex;flex-direction: column;align-items: center;background-color: white;padding-right: 0.2em;padding-left: 0.2em;position: relative;}#sk-container-id-2 div.sk-item {position: relative;z-index: 1;}#sk-container-id-2 div.sk-parallel {display: flex;align-items: stretch;justify-content: center;background-color: white;position: relative;}#sk-container-id-2 div.sk-item::before, #sk-container-id-2 div.sk-parallel-item::before {content: \"\";position: absolute;border-left: 1px solid gray;box-sizing: border-box;top: 0;bottom: 0;left: 50%;z-index: -1;}#sk-container-id-2 div.sk-parallel-item {display: flex;flex-direction: column;z-index: 1;position: relative;background-color: white;}#sk-container-id-2 div.sk-parallel-item:first-child::after {align-self: flex-end;width: 50%;}#sk-container-id-2 div.sk-parallel-item:last-child::after {align-self: flex-start;width: 50%;}#sk-container-id-2 div.sk-parallel-item:only-child::after {width: 0;}#sk-container-id-2 div.sk-dashed-wrapped {border: 1px dashed gray;margin: 0 0.4em 0.5em 0.4em;box-sizing: border-box;padding-bottom: 0.4em;background-color: white;}#sk-container-id-2 div.sk-label label {font-family: monospace;font-weight: bold;display: inline-block;line-height: 1.2em;}#sk-container-id-2 div.sk-label-container {text-align: center;}#sk-container-id-2 div.sk-container {/* jupyter's `normalize.less` sets `[hidden] { display: none; }` but bootstrap.min.css set `[hidden] { display: none !important; }` so we also need the `!important` here to be able to override the default hidden behavior on the sphinx rendered scikit-learn.org. See: https://github.com/scikit-learn/scikit-learn/issues/21755 */display: inline-block !important;position: relative;}#sk-container-id-2 div.sk-text-repr-fallback {display: none;}</style><div id=\"sk-container-id-2\" class=\"sk-top-container\"><div class=\"sk-text-repr-fallback\"><pre>StandardScaler()</pre><b>In a Jupyter environment, please rerun this cell to show the HTML representation or trust the notebook. <br />On GitHub, the HTML representation is unable to render, please try loading this page with nbviewer.org.</b></div><div class=\"sk-container\" hidden><div class=\"sk-item\"><div class=\"sk-estimator sk-toggleable\"><input class=\"sk-toggleable__control sk-hidden--visually\" id=\"sk-estimator-id-2\" type=\"checkbox\" checked><label for=\"sk-estimator-id-2\" class=\"sk-toggleable__label sk-toggleable__label-arrow\">StandardScaler</label><div class=\"sk-toggleable__content\"><pre>StandardScaler()</pre></div></div></div></div></div>"
      ],
      "text/plain": [
       "StandardScaler()"
      ]
     },
     "execution_count": 31,
     "metadata": {},
     "output_type": "execute_result"
    }
   ],
   "source": [
    "std_scaler.fit(df_all[[\"utm_campaign_freq\", 'device_brand_freq', \"utm_source_freq\", \"device_browser_freq\", \"device_category_freq\", \"utm_medium_freq\", \"month\", 'hit_number', \"geo_country_freq\", \"geo_city_freq\"]])"
   ]
  },
  {
   "cell_type": "code",
   "execution_count": 32,
   "id": "d8366ae0",
   "metadata": {},
   "outputs": [],
   "source": [
    "std_scaled = std_scaler.transform(df_all[[\"utm_campaign_freq\", 'device_brand_freq', \"utm_source_freq\", \"device_browser_freq\", \"device_category_freq\", \"utm_medium_freq\", \"month\", 'hit_number', \"geo_country_freq\", \"geo_city_freq\"]])"
   ]
  },
  {
   "cell_type": "code",
   "execution_count": 33,
   "id": "20aa637a",
   "metadata": {},
   "outputs": [],
   "source": [
    "df_all[[\"utm_campaign_freq\", 'device_brand_freq', \"utm_source_freq\", \"device_browser_freq\", \"device_category_freq\", \"utm_medium_freq\", \"month\", 'hit_number', \"geo_country_freq\", \"geo_city_freq\"]] = std_scaled"
   ]
  },
  {
   "cell_type": "markdown",
   "id": "181943c2",
   "metadata": {},
   "source": [
    "### Моделирование"
   ]
  },
  {
   "cell_type": "code",
   "execution_count": 34,
   "id": "b611cae4",
   "metadata": {},
   "outputs": [],
   "source": [
    "x = df_all.drop([\"utm_source\", \"utm_medium\", \"device_browser\", \"geo_country\", \"geo_city\", \"event_action\", \"device_category\", \"device_brand\", \"utm_campaign\"], axis=1)\n",
    "y = df_all['event_action']"
   ]
  },
  {
   "cell_type": "code",
   "execution_count": 35,
   "id": "f8655db3",
   "metadata": {},
   "outputs": [
    {
     "name": "stdout",
     "output_type": "stream",
     "text": [
      "1536903 1536903\n"
     ]
    }
   ],
   "source": [
    "print(len(x), len(y))"
   ]
  },
  {
   "cell_type": "code",
   "execution_count": 36,
   "id": "2ab6f8a9",
   "metadata": {},
   "outputs": [],
   "source": [
    "train_x, test_x, train_y, test_y = train_test_split(x, y, test_size=0.2, random_state=42)"
   ]
  },
  {
   "cell_type": "markdown",
   "id": "5c9f1c4c",
   "metadata": {},
   "source": [
    "### Логистическая регрессия"
   ]
  },
  {
   "cell_type": "code",
   "execution_count": 104,
   "id": "0c7de890",
   "metadata": {},
   "outputs": [
    {
     "name": "stdout",
     "output_type": "stream",
     "text": [
      "AUC: 0.776\n"
     ]
    },
    {
     "data": {
      "image/png": "[encoded data removed]",
      "text/plain": [
       "<Figure size 432x360 with 1 Axes>"
      ]
     },
     "metadata": {},
     "output_type": "display_data"
    }
   ],
   "source": [
    "logreg = LogisticRegression()\n",
    "logreg.fit(train_x, train_y)\n",
    "probs = logreg.predict_proba(test_x)[:, 1]\n",
    "auc = roc_auc_score(test_y, probs)\n",
    "print(\"AUC: %.3f\" % auc)\n",
    "fpr, tpr, thresholds = roc_curve(test_y, probs)\n",
    "plt.plot([0, 1], [0, 1], linestyle = \"--\")\n",
    "plt.plot(fpr, tpr, marker = \".\")\n",
    "plt.show()"
   ]
  },
  {
   "cell_type": "markdown",
   "id": "a8c4755d",
   "metadata": {},
   "source": [
    "### Дерево решений"
   ]
  },
  {
   "cell_type": "code",
   "execution_count": 105,
   "id": "db3d7616",
   "metadata": {},
   "outputs": [
    {
     "name": "stdout",
     "output_type": "stream",
     "text": [
      "AUC: 0.586\n"
     ]
    },
    {
     "data": {
      "image/png": "[encoded data removed]",
      "text/plain": [
       "<Figure size 432x360 with 1 Axes>"
      ]
     },
     "metadata": {},
     "output_type": "display_data"
    }
   ],
   "source": [
    "clf = DecisionTreeClassifier()\n",
    "clf.fit(train_x, train_y)\n",
    "probs = clf.predict_proba(test_x)[:, 1]\n",
    "auc = roc_auc_score(test_y, probs)\n",
    "print(\"AUC: %.3f\" % auc)\n",
    "fpr, tpr, thresholds = roc_curve(test_y, probs)\n",
    "plt.plot([0, 1], [0, 1], linestyle = \"--\")\n",
    "plt.plot(fpr, tpr, marker = \".\")\n",
    "plt.show()"
   ]
  },
  {
   "cell_type": "markdown",
   "id": "ff9088ac",
   "metadata": {},
   "source": [
    "### Нейронные сети"
   ]
  },
  {
   "cell_type": "code",
   "execution_count": 118,
   "id": "30a5110c",
   "metadata": {},
   "outputs": [
    {
     "name": "stdout",
     "output_type": "stream",
     "text": [
      "AUC: 0.833\n"
     ]
    },
    {
     "data": {
      "image/png": "[encoded data removed]",
      "text/plain": [
       "<Figure size 432x288 with 1 Axes>"
      ]
     },
     "metadata": {},
     "output_type": "display_data"
    }
   ],
   "source": [
    "mlp = MLPClassifier(random_state=42, max_iter=500)\n",
    "mlp.fit(train_x, train_y)\n",
    "probs = mlp.predict_proba(test_x)[:, 1]\n",
    "auc = roc_auc_score(test_y, probs)\n",
    "print(\"AUC: %.3f\" % auc)\n",
    "fpr, tpr, thresholds = roc_curve(test_y, probs)\n",
    "plt.plot([0, 1], [0, 1], linestyle = \"--\")\n",
    "plt.plot(fpr, tpr, marker = \".\")\n",
    "plt.show()"
   ]
  },
  {
   "cell_type": "markdown",
   "id": "faadc017",
   "metadata": {},
   "source": [
    "### Случайный лес"
   ]
  },
  {
   "cell_type": "code",
   "execution_count": 119,
   "id": "cb7cf438",
   "metadata": {},
   "outputs": [
    {
     "name": "stdout",
     "output_type": "stream",
     "text": [
      "AUC: 0.744\n"
     ]
    },
    {
     "data": {
      "image/png": "[encoded data removed]",
      "text/plain": [
       "<Figure size 432x288 with 1 Axes>"
      ]
     },
     "metadata": {},
     "output_type": "display_data"
    }
   ],
   "source": [
    "rf_clf = RandomForestClassifier()\n",
    "rf_clf.fit(train_x, train_y)\n",
    "probs = rf_clf.predict_proba(test_x)[:, 1]\n",
    "auc = roc_auc_score(test_y, probs)\n",
    "print(\"AUC: %.3f\" % auc)\n",
    "fpr, tpr, thresholds = roc_curve(test_y, probs)\n",
    "plt.plot([0, 1], [0, 1], linestyle = \"--\")\n",
    "plt.plot(fpr, tpr, marker = \".\")\n",
    "plt.show()"
   ]
  },
  {
   "cell_type": "markdown",
   "id": "50b795f4",
   "metadata": {},
   "source": [
    "### Xboost Лучшая модель"
   ]
  },
  {
   "cell_type": "code",
   "execution_count": 59,
   "id": "b6895227",
   "metadata": {},
   "outputs": [
    {
     "name": "stdout",
     "output_type": "stream",
     "text": [
      "AUC: 0.850\n"
     ]
    },
    {
     "data": {
      "image/png": "[encoded data removed]",
      "text/plain": [
       "<Figure size 432x288 with 1 Axes>"
      ]
     },
     "metadata": {},
     "output_type": "display_data"
    }
   ],
   "source": [
    "y.value_counts()[0]/y.value_counts()[1]\n",
    "clf_1 = xgboost.XGBClassifier(objective = \"binary:logistic\", scale_pos_weight=34.63).fit(train_x,train_y) \n",
    "predict_1 = clf_1.predict_proba(test_x)[:, 1]\n",
    "auc = roc_auc_score(test_y,predict_1) \n",
    "print(\"AUC: %.3f\" % auc)\n",
    "fpr, tpr, thresholds = roc_curve(test_y, predict_1)\n",
    "plt.plot([0, 1], [0, 1], linestyle = \"--\")\n",
    "plt.plot(fpr, tpr, marker = \".\")\n",
    "plt.show()"
   ]
  },
  {
   "cell_type": "code",
   "execution_count": 60,
   "id": "d26c0865",
   "metadata": {},
   "outputs": [
    {
     "data": {
      "text/plain": [
       "array([0.50993514, 0.06268198, 0.0802392 , 0.07663925, 0.06010612,\n",
       "       0.04796989, 0.04372433, 0.01690567, 0.02756398, 0.07423438],\n",
       "      dtype=float32)"
      ]
     },
     "execution_count": 60,
     "metadata": {},
     "output_type": "execute_result"
    }
   ],
   "source": [
    "clf_1.feature_importances_"
   ]
  },
  {
   "cell_type": "code",
   "execution_count": 61,
   "id": "6b7b0c0e",
   "metadata": {},
   "outputs": [
    {
     "data": {
      "text/plain": [
       "[('hit_number', 0.50993514),\n",
       " ('month', 0.06268198),\n",
       " ('utm_source_freq', 0.0802392),\n",
       " ('utm_medium_freq', 0.07663925),\n",
       " ('device_category_freq', 0.060106125),\n",
       " ('device_brand_freq', 0.047969885),\n",
       " ('device_browser_freq', 0.04372433),\n",
       " ('geo_country_freq', 0.016905671),\n",
       " ('geo_city_freq', 0.02756398),\n",
       " ('utm_campaign_freq', 0.07423438)]"
      ]
     },
     "execution_count": 61,
     "metadata": {},
     "output_type": "execute_result"
    }
   ],
   "source": [
    "f_imp_list = list(zip(train_x.columns, clf_1.feature_importances_))\n",
    "f_imp_list.sort(key = lambda x: x[1], reverse=True)"
   ]
  },
  {
   "cell_type": "markdown",
   "id": "51c516ce",
   "metadata": {},
   "source": [
    "## Тюнинг лучшей модели"
   ]
  },
  {
   "cell_type": "code",
   "execution_count": null,
   "id": "f91a54ae",
   "metadata": {},
   "outputs": [],
   "source": [
    "parameters = {\n",
    "              'max_depth': [5, 10, 15, 20, 25],\n",
    "              'learning_rate': [0.01, 0.05, 0.1, 0.15],\n",
    "              'n_estimators': [500, 1000, 2000, 3000, 5000],\n",
    "              'min_child_weight': [1, 5, 15, 200],\n",
    "              'subsample': [0.6, 0.8, 0.95],\n",
    "              'colsample_bytree': [0.5, 0.7, 0.9], \n",
    "}\n",
    "xlf = xgboost.XGBClassifier(objective = \"binary:logistic\", scale_pos_weight=34.63).fit(train_x, train_y)           \n",
    "cv = RandomizedSearchCV(estimator = xlf, param_distributions=parameters, n_iter = 60, cv=3, n_jobs = -1)\n",
    "cv.fit(train_x, train_y)    \n",
    "print(cv.best_params_)"
   ]
  },
  {
   "cell_type": "code",
   "execution_count": null,
   "id": "2914dcb6",
   "metadata": {},
   "outputs": [],
   "source": [
    "clf_best = xgboost.XGBClassifier(max_depth=10, learning_rate=0.01, n_estimators=2000, \n",
    "            objective='binary:logistic',\n",
    "            min_child_weight=1,\n",
    "            subsample=0.85,\n",
    "            colsample_bytree=0.7,\n",
    "            scale_pos_weight=34.63,).fit(train_x,train_y) \n",
    "predict_10 = clf_best.predict_proba(test_x)[:, 1]\n",
    "auc = roc_auc_score(test_y,predict_10) \n",
    "print(\"AUC: %.3f\" % auc)\n",
    "fpr, tpr, thresholds = roc_curve(test_y, predict_10)\n",
    "plt.plot([0, 1], [0, 1], linestyle = \"--\")\n",
    "plt.plot(fpr, tpr, marker = \".\")\n",
    "plt.show()"
   ]
  },
  {
   "cell_type": "markdown",
   "id": "1494d4d7",
   "metadata": {},
   "source": [
    "### Catboost"
   ]
  },
  {
   "cell_type": "code",
   "execution_count": 37,
   "id": "20455392",
   "metadata": {
    "scrolled": false
   },
   "outputs": [],
   "source": [
    "params = {'depth': [4, 7, 10],\n",
    "          'learning_rate': [0.03, 0.1, 0.15],\n",
    "          'l2_leaf_reg': [1, 4, 9],\n",
    "          'iterations': [300, 500]}\n",
    "label_ratio = (y==1).sum()/(y==0).sum()\n",
    "cb = cb.CatBoostClassifier(scale_pos_weight = label_ratio, logging_level='Silent')\n",
    "cb_model = GridSearchCV(cb, params, scoring=\"roc_auc\", cv=3)\n",
    "cb_model.fit(train_x, train_y)\n",
    "print(cb_model.best_score_) \n",
    "print(cb_model.best_params_)  "
   ]
  },
  {
   "cell_type": "code",
   "execution_count": 57,
   "id": "ad886514",
   "metadata": {},
   "outputs": [
    {
     "name": "stdout",
     "output_type": "stream",
     "text": [
      "0:\ttotal: 528ms\tremaining: 4m 23s\n",
      "1:\ttotal: 1.01s\tremaining: 4m 12s\n",
      "2:\ttotal: 1.53s\tremaining: 4m 12s\n",
      "3:\ttotal: 2.04s\tremaining: 4m 12s\n",
      "4:\ttotal: 2.43s\tremaining: 4m\n",
      "5:\ttotal: 2.97s\tremaining: 4m 4s\n",
      "6:\ttotal: 3.46s\tremaining: 4m 3s\n",
      "7:\ttotal: 4.01s\tremaining: 4m 6s\n",
      "8:\ttotal: 4.32s\tremaining: 3m 55s\n",
      "9:\ttotal: 4.83s\tremaining: 3m 56s\n",
      "10:\ttotal: 5.27s\tremaining: 3m 54s\n",
      "11:\ttotal: 5.77s\tremaining: 3m 54s\n",
      "12:\ttotal: 6.09s\tremaining: 3m 48s\n",
      "13:\ttotal: 6.53s\tremaining: 3m 46s\n",
      "14:\ttotal: 6.93s\tremaining: 3m 44s\n",
      "15:\ttotal: 7.43s\tremaining: 3m 44s\n",
      "16:\ttotal: 7.88s\tremaining: 3m 43s\n",
      "17:\ttotal: 8.35s\tremaining: 3m 43s\n",
      "18:\ttotal: 8.76s\tremaining: 3m 41s\n",
      "19:\ttotal: 9.14s\tremaining: 3m 39s\n",
      "20:\ttotal: 9.56s\tremaining: 3m 38s\n",
      "21:\ttotal: 9.93s\tremaining: 3m 35s\n",
      "22:\ttotal: 10.3s\tremaining: 3m 34s\n",
      "23:\ttotal: 10.7s\tremaining: 3m 32s\n",
      "24:\ttotal: 11.1s\tremaining: 3m 30s\n",
      "25:\ttotal: 11.5s\tremaining: 3m 29s\n",
      "26:\ttotal: 11.9s\tremaining: 3m 27s\n",
      "27:\ttotal: 12.2s\tremaining: 3m 26s\n",
      "28:\ttotal: 12.6s\tremaining: 3m 25s\n",
      "29:\ttotal: 13s\tremaining: 3m 24s\n",
      "30:\ttotal: 13.5s\tremaining: 3m 23s\n",
      "31:\ttotal: 13.8s\tremaining: 3m 22s\n",
      "32:\ttotal: 14.2s\tremaining: 3m 21s\n",
      "33:\ttotal: 14.7s\tremaining: 3m 20s\n",
      "34:\ttotal: 15s\tremaining: 3m 19s\n",
      "35:\ttotal: 15.4s\tremaining: 3m 19s\n",
      "36:\ttotal: 15.9s\tremaining: 3m 19s\n",
      "37:\ttotal: 16.3s\tremaining: 3m 18s\n",
      "38:\ttotal: 16.7s\tremaining: 3m 17s\n",
      "39:\ttotal: 17.3s\tremaining: 3m 19s\n",
      "40:\ttotal: 18s\tremaining: 3m 21s\n",
      "41:\ttotal: 18.4s\tremaining: 3m 20s\n",
      "42:\ttotal: 19s\tremaining: 3m 22s\n",
      "43:\ttotal: 19.5s\tremaining: 3m 22s\n",
      "44:\ttotal: 20.2s\tremaining: 3m 23s\n",
      "45:\ttotal: 20.8s\tremaining: 3m 24s\n",
      "46:\ttotal: 21.4s\tremaining: 3m 26s\n",
      "47:\ttotal: 22.2s\tremaining: 3m 29s\n",
      "48:\ttotal: 22.9s\tremaining: 3m 31s\n",
      "49:\ttotal: 23.4s\tremaining: 3m 30s\n",
      "50:\ttotal: 24.1s\tremaining: 3m 32s\n",
      "51:\ttotal: 25s\tremaining: 3m 35s\n",
      "52:\ttotal: 25.5s\tremaining: 3m 35s\n",
      "53:\ttotal: 25.9s\tremaining: 3m 34s\n",
      "54:\ttotal: 26.3s\tremaining: 3m 32s\n",
      "55:\ttotal: 26.7s\tremaining: 3m 31s\n",
      "56:\ttotal: 27.1s\tremaining: 3m 30s\n",
      "57:\ttotal: 28s\tremaining: 3m 33s\n",
      "58:\ttotal: 28.4s\tremaining: 3m 31s\n",
      "59:\ttotal: 28.7s\tremaining: 3m 30s\n",
      "60:\ttotal: 29.2s\tremaining: 3m 29s\n",
      "61:\ttotal: 29.7s\tremaining: 3m 30s\n",
      "62:\ttotal: 30.3s\tremaining: 3m 30s\n",
      "63:\ttotal: 30.7s\tremaining: 3m 29s\n",
      "64:\ttotal: 31.1s\tremaining: 3m 28s\n",
      "65:\ttotal: 31.6s\tremaining: 3m 28s\n",
      "66:\ttotal: 32.1s\tremaining: 3m 27s\n",
      "67:\ttotal: 32.4s\tremaining: 3m 26s\n",
      "68:\ttotal: 32.8s\tremaining: 3m 24s\n",
      "69:\ttotal: 33.1s\tremaining: 3m 23s\n",
      "70:\ttotal: 33.9s\tremaining: 3m 24s\n",
      "71:\ttotal: 34.3s\tremaining: 3m 24s\n",
      "72:\ttotal: 34.8s\tremaining: 3m 23s\n",
      "73:\ttotal: 35.3s\tremaining: 3m 23s\n",
      "74:\ttotal: 35.8s\tremaining: 3m 22s\n",
      "75:\ttotal: 36.2s\tremaining: 3m 21s\n",
      "76:\ttotal: 36.7s\tremaining: 3m 21s\n",
      "77:\ttotal: 37.2s\tremaining: 3m 21s\n",
      "78:\ttotal: 37.7s\tremaining: 3m 21s\n",
      "79:\ttotal: 38.3s\tremaining: 3m 21s\n",
      "80:\ttotal: 38.8s\tremaining: 3m 20s\n",
      "81:\ttotal: 39.2s\tremaining: 3m 20s\n",
      "82:\ttotal: 39.7s\tremaining: 3m 19s\n",
      "83:\ttotal: 40.1s\tremaining: 3m 18s\n",
      "84:\ttotal: 40.6s\tremaining: 3m 18s\n",
      "85:\ttotal: 41s\tremaining: 3m 17s\n",
      "86:\ttotal: 41.4s\tremaining: 3m 16s\n",
      "87:\ttotal: 41.8s\tremaining: 3m 15s\n",
      "88:\ttotal: 42.2s\tremaining: 3m 15s\n",
      "89:\ttotal: 42.6s\tremaining: 3m 14s\n",
      "90:\ttotal: 43s\tremaining: 3m 13s\n",
      "91:\ttotal: 43.4s\tremaining: 3m 12s\n",
      "92:\ttotal: 43.9s\tremaining: 3m 12s\n",
      "93:\ttotal: 44.1s\tremaining: 3m 10s\n",
      "94:\ttotal: 44.5s\tremaining: 3m 9s\n",
      "95:\ttotal: 44.9s\tremaining: 3m 8s\n",
      "96:\ttotal: 45.1s\tremaining: 3m 7s\n",
      "97:\ttotal: 45.5s\tremaining: 3m 6s\n",
      "98:\ttotal: 46s\tremaining: 3m 6s\n",
      "99:\ttotal: 46.4s\tremaining: 3m 5s\n",
      "100:\ttotal: 46.8s\tremaining: 3m 4s\n",
      "101:\ttotal: 47.2s\tremaining: 3m 4s\n",
      "102:\ttotal: 47.7s\tremaining: 3m 3s\n",
      "103:\ttotal: 48.2s\tremaining: 3m 3s\n",
      "104:\ttotal: 48.7s\tremaining: 3m 3s\n",
      "105:\ttotal: 49.3s\tremaining: 3m 3s\n",
      "106:\ttotal: 50s\tremaining: 3m 3s\n",
      "107:\ttotal: 50.6s\tremaining: 3m 3s\n",
      "108:\ttotal: 51.2s\tremaining: 3m 3s\n",
      "109:\ttotal: 51.6s\tremaining: 3m 2s\n",
      "110:\ttotal: 52s\tremaining: 3m 2s\n",
      "111:\ttotal: 52.5s\tremaining: 3m 1s\n",
      "112:\ttotal: 53s\tremaining: 3m 1s\n",
      "113:\ttotal: 53.5s\tremaining: 3m 1s\n",
      "114:\ttotal: 54.1s\tremaining: 3m 1s\n",
      "115:\ttotal: 54.6s\tremaining: 3m\n",
      "116:\ttotal: 55s\tremaining: 3m\n",
      "117:\ttotal: 55.4s\tremaining: 2m 59s\n",
      "118:\ttotal: 55.9s\tremaining: 2m 59s\n",
      "119:\ttotal: 56.3s\tremaining: 2m 58s\n",
      "120:\ttotal: 56.6s\tremaining: 2m 57s\n",
      "121:\ttotal: 56.9s\tremaining: 2m 56s\n",
      "122:\ttotal: 57.1s\tremaining: 2m 55s\n",
      "123:\ttotal: 57.5s\tremaining: 2m 54s\n",
      "124:\ttotal: 57.9s\tremaining: 2m 53s\n",
      "125:\ttotal: 58.4s\tremaining: 2m 53s\n",
      "126:\ttotal: 58.9s\tremaining: 2m 52s\n",
      "127:\ttotal: 59.3s\tremaining: 2m 52s\n",
      "128:\ttotal: 59.6s\tremaining: 2m 51s\n",
      "129:\ttotal: 1m\tremaining: 2m 50s\n",
      "130:\ttotal: 1m\tremaining: 2m 49s\n",
      "131:\ttotal: 1m\tremaining: 2m 49s\n",
      "132:\ttotal: 1m 1s\tremaining: 2m 48s\n",
      "133:\ttotal: 1m 1s\tremaining: 2m 48s\n",
      "134:\ttotal: 1m 2s\tremaining: 2m 47s\n",
      "135:\ttotal: 1m 2s\tremaining: 2m 47s\n",
      "136:\ttotal: 1m 2s\tremaining: 2m 46s\n",
      "137:\ttotal: 1m 3s\tremaining: 2m 46s\n",
      "138:\ttotal: 1m 3s\tremaining: 2m 45s\n",
      "139:\ttotal: 1m 4s\tremaining: 2m 45s\n",
      "140:\ttotal: 1m 4s\tremaining: 2m 44s\n",
      "141:\ttotal: 1m 5s\tremaining: 2m 44s\n",
      "142:\ttotal: 1m 5s\tremaining: 2m 44s\n",
      "143:\ttotal: 1m 6s\tremaining: 2m 44s\n",
      "144:\ttotal: 1m 6s\tremaining: 2m 43s\n",
      "145:\ttotal: 1m 7s\tremaining: 2m 42s\n",
      "146:\ttotal: 1m 7s\tremaining: 2m 41s\n",
      "147:\ttotal: 1m 8s\tremaining: 2m 41s\n",
      "148:\ttotal: 1m 8s\tremaining: 2m 41s\n",
      "149:\ttotal: 1m 8s\tremaining: 2m 40s\n",
      "150:\ttotal: 1m 8s\tremaining: 2m 39s\n",
      "151:\ttotal: 1m 9s\tremaining: 2m 38s\n",
      "152:\ttotal: 1m 9s\tremaining: 2m 37s\n",
      "153:\ttotal: 1m 9s\tremaining: 2m 36s\n",
      "154:\ttotal: 1m 9s\tremaining: 2m 35s\n",
      "155:\ttotal: 1m 10s\tremaining: 2m 34s\n",
      "156:\ttotal: 1m 10s\tremaining: 2m 33s\n",
      "157:\ttotal: 1m 10s\tremaining: 2m 32s\n",
      "158:\ttotal: 1m 10s\tremaining: 2m 31s\n",
      "159:\ttotal: 1m 10s\tremaining: 2m 30s\n",
      "160:\ttotal: 1m 11s\tremaining: 2m 29s\n",
      "161:\ttotal: 1m 11s\tremaining: 2m 28s\n",
      "162:\ttotal: 1m 11s\tremaining: 2m 28s\n",
      "163:\ttotal: 1m 12s\tremaining: 2m 27s\n",
      "164:\ttotal: 1m 12s\tremaining: 2m 26s\n",
      "165:\ttotal: 1m 12s\tremaining: 2m 25s\n",
      "166:\ttotal: 1m 12s\tremaining: 2m 24s\n",
      "167:\ttotal: 1m 12s\tremaining: 2m 23s\n",
      "168:\ttotal: 1m 13s\tremaining: 2m 23s\n",
      "169:\ttotal: 1m 13s\tremaining: 2m 22s\n",
      "170:\ttotal: 1m 13s\tremaining: 2m 21s\n",
      "171:\ttotal: 1m 13s\tremaining: 2m 20s\n",
      "172:\ttotal: 1m 13s\tremaining: 2m 19s\n",
      "173:\ttotal: 1m 14s\tremaining: 2m 18s\n",
      "174:\ttotal: 1m 14s\tremaining: 2m 18s\n",
      "175:\ttotal: 1m 14s\tremaining: 2m 17s\n",
      "176:\ttotal: 1m 14s\tremaining: 2m 16s\n",
      "177:\ttotal: 1m 15s\tremaining: 2m 15s\n",
      "178:\ttotal: 1m 15s\tremaining: 2m 14s\n",
      "179:\ttotal: 1m 15s\tremaining: 2m 14s\n",
      "180:\ttotal: 1m 15s\tremaining: 2m 13s\n",
      "181:\ttotal: 1m 15s\tremaining: 2m 12s\n",
      "182:\ttotal: 1m 16s\tremaining: 2m 11s\n",
      "183:\ttotal: 1m 16s\tremaining: 2m 10s\n",
      "184:\ttotal: 1m 16s\tremaining: 2m 10s\n",
      "185:\ttotal: 1m 16s\tremaining: 2m 9s\n",
      "186:\ttotal: 1m 16s\tremaining: 2m 8s\n",
      "187:\ttotal: 1m 17s\tremaining: 2m 7s\n",
      "188:\ttotal: 1m 17s\tremaining: 2m 7s\n",
      "189:\ttotal: 1m 17s\tremaining: 2m 6s\n",
      "190:\ttotal: 1m 17s\tremaining: 2m 5s\n",
      "191:\ttotal: 1m 18s\tremaining: 2m 5s\n",
      "192:\ttotal: 1m 18s\tremaining: 2m 4s\n",
      "193:\ttotal: 1m 18s\tremaining: 2m 3s\n",
      "194:\ttotal: 1m 18s\tremaining: 2m 3s\n",
      "195:\ttotal: 1m 18s\tremaining: 2m 2s\n",
      "196:\ttotal: 1m 19s\tremaining: 2m 1s\n",
      "197:\ttotal: 1m 19s\tremaining: 2m 1s\n",
      "198:\ttotal: 1m 19s\tremaining: 2m\n",
      "199:\ttotal: 1m 19s\tremaining: 1m 59s\n",
      "200:\ttotal: 1m 20s\tremaining: 1m 59s\n",
      "201:\ttotal: 1m 20s\tremaining: 1m 58s\n",
      "202:\ttotal: 1m 20s\tremaining: 1m 57s\n",
      "203:\ttotal: 1m 20s\tremaining: 1m 57s\n",
      "204:\ttotal: 1m 20s\tremaining: 1m 56s\n",
      "205:\ttotal: 1m 21s\tremaining: 1m 55s\n",
      "206:\ttotal: 1m 21s\tremaining: 1m 55s\n",
      "207:\ttotal: 1m 21s\tremaining: 1m 54s\n",
      "208:\ttotal: 1m 21s\tremaining: 1m 53s\n",
      "209:\ttotal: 1m 22s\tremaining: 1m 53s\n",
      "210:\ttotal: 1m 22s\tremaining: 1m 52s\n",
      "211:\ttotal: 1m 22s\tremaining: 1m 52s\n",
      "212:\ttotal: 1m 22s\tremaining: 1m 51s\n",
      "213:\ttotal: 1m 22s\tremaining: 1m 50s\n",
      "214:\ttotal: 1m 23s\tremaining: 1m 50s\n",
      "215:\ttotal: 1m 23s\tremaining: 1m 49s\n",
      "216:\ttotal: 1m 23s\tremaining: 1m 49s\n",
      "217:\ttotal: 1m 23s\tremaining: 1m 48s\n",
      "218:\ttotal: 1m 24s\tremaining: 1m 47s\n",
      "219:\ttotal: 1m 24s\tremaining: 1m 47s\n",
      "220:\ttotal: 1m 24s\tremaining: 1m 46s\n",
      "221:\ttotal: 1m 24s\tremaining: 1m 46s\n",
      "222:\ttotal: 1m 24s\tremaining: 1m 45s\n",
      "223:\ttotal: 1m 25s\tremaining: 1m 45s\n",
      "224:\ttotal: 1m 25s\tremaining: 1m 44s\n",
      "225:\ttotal: 1m 25s\tremaining: 1m 43s\n",
      "226:\ttotal: 1m 25s\tremaining: 1m 43s\n",
      "227:\ttotal: 1m 26s\tremaining: 1m 42s\n",
      "228:\ttotal: 1m 26s\tremaining: 1m 42s\n",
      "229:\ttotal: 1m 26s\tremaining: 1m 41s\n",
      "230:\ttotal: 1m 26s\tremaining: 1m 40s\n",
      "231:\ttotal: 1m 26s\tremaining: 1m 40s\n",
      "232:\ttotal: 1m 27s\tremaining: 1m 39s\n",
      "233:\ttotal: 1m 27s\tremaining: 1m 39s\n",
      "234:\ttotal: 1m 27s\tremaining: 1m 38s\n",
      "235:\ttotal: 1m 27s\tremaining: 1m 38s\n",
      "236:\ttotal: 1m 27s\tremaining: 1m 37s\n",
      "237:\ttotal: 1m 28s\tremaining: 1m 36s\n",
      "238:\ttotal: 1m 28s\tremaining: 1m 36s\n",
      "239:\ttotal: 1m 28s\tremaining: 1m 35s\n",
      "240:\ttotal: 1m 28s\tremaining: 1m 35s\n",
      "241:\ttotal: 1m 28s\tremaining: 1m 34s\n",
      "242:\ttotal: 1m 29s\tremaining: 1m 34s\n",
      "243:\ttotal: 1m 29s\tremaining: 1m 33s\n",
      "244:\ttotal: 1m 29s\tremaining: 1m 33s\n",
      "245:\ttotal: 1m 29s\tremaining: 1m 32s\n",
      "246:\ttotal: 1m 29s\tremaining: 1m 32s\n",
      "247:\ttotal: 1m 30s\tremaining: 1m 31s\n",
      "248:\ttotal: 1m 30s\tremaining: 1m 31s\n",
      "249:\ttotal: 1m 30s\tremaining: 1m 30s\n",
      "250:\ttotal: 1m 30s\tremaining: 1m 29s\n",
      "251:\ttotal: 1m 30s\tremaining: 1m 29s\n",
      "252:\ttotal: 1m 31s\tremaining: 1m 28s\n",
      "253:\ttotal: 1m 31s\tremaining: 1m 28s\n",
      "254:\ttotal: 1m 31s\tremaining: 1m 27s\n",
      "255:\ttotal: 1m 31s\tremaining: 1m 27s\n",
      "256:\ttotal: 1m 31s\tremaining: 1m 26s\n",
      "257:\ttotal: 1m 31s\tremaining: 1m 26s\n",
      "258:\ttotal: 1m 32s\tremaining: 1m 25s\n",
      "259:\ttotal: 1m 32s\tremaining: 1m 25s\n",
      "260:\ttotal: 1m 32s\tremaining: 1m 24s\n",
      "261:\ttotal: 1m 32s\tremaining: 1m 24s\n",
      "262:\ttotal: 1m 32s\tremaining: 1m 23s\n",
      "263:\ttotal: 1m 33s\tremaining: 1m 23s\n",
      "264:\ttotal: 1m 33s\tremaining: 1m 22s\n",
      "265:\ttotal: 1m 33s\tremaining: 1m 22s\n",
      "266:\ttotal: 1m 33s\tremaining: 1m 21s\n",
      "267:\ttotal: 1m 33s\tremaining: 1m 21s\n",
      "268:\ttotal: 1m 34s\tremaining: 1m 20s\n",
      "269:\ttotal: 1m 34s\tremaining: 1m 20s\n",
      "270:\ttotal: 1m 34s\tremaining: 1m 19s\n",
      "271:\ttotal: 1m 34s\tremaining: 1m 19s\n",
      "272:\ttotal: 1m 34s\tremaining: 1m 18s\n",
      "273:\ttotal: 1m 35s\tremaining: 1m 18s\n",
      "274:\ttotal: 1m 35s\tremaining: 1m 17s\n",
      "275:\ttotal: 1m 35s\tremaining: 1m 17s\n",
      "276:\ttotal: 1m 35s\tremaining: 1m 17s\n",
      "277:\ttotal: 1m 35s\tremaining: 1m 16s\n",
      "278:\ttotal: 1m 36s\tremaining: 1m 16s\n",
      "279:\ttotal: 1m 36s\tremaining: 1m 15s\n",
      "280:\ttotal: 1m 36s\tremaining: 1m 15s\n",
      "281:\ttotal: 1m 36s\tremaining: 1m 14s\n",
      "282:\ttotal: 1m 37s\tremaining: 1m 14s\n",
      "283:\ttotal: 1m 37s\tremaining: 1m 13s\n",
      "284:\ttotal: 1m 37s\tremaining: 1m 13s\n",
      "285:\ttotal: 1m 37s\tremaining: 1m 13s\n",
      "286:\ttotal: 1m 37s\tremaining: 1m 12s\n",
      "287:\ttotal: 1m 38s\tremaining: 1m 12s\n",
      "288:\ttotal: 1m 38s\tremaining: 1m 11s\n",
      "289:\ttotal: 1m 38s\tremaining: 1m 11s\n",
      "290:\ttotal: 1m 38s\tremaining: 1m 10s\n",
      "291:\ttotal: 1m 39s\tremaining: 1m 10s\n",
      "292:\ttotal: 1m 39s\tremaining: 1m 10s\n",
      "293:\ttotal: 1m 39s\tremaining: 1m 9s\n",
      "294:\ttotal: 1m 39s\tremaining: 1m 9s\n",
      "295:\ttotal: 1m 39s\tremaining: 1m 8s\n",
      "296:\ttotal: 1m 40s\tremaining: 1m 8s\n",
      "297:\ttotal: 1m 40s\tremaining: 1m 8s\n",
      "298:\ttotal: 1m 40s\tremaining: 1m 7s\n",
      "299:\ttotal: 1m 40s\tremaining: 1m 7s\n",
      "300:\ttotal: 1m 41s\tremaining: 1m 6s\n",
      "301:\ttotal: 1m 41s\tremaining: 1m 6s\n",
      "302:\ttotal: 1m 41s\tremaining: 1m 6s\n",
      "303:\ttotal: 1m 41s\tremaining: 1m 5s\n",
      "304:\ttotal: 1m 41s\tremaining: 1m 5s\n",
      "305:\ttotal: 1m 42s\tremaining: 1m 4s\n",
      "306:\ttotal: 1m 42s\tremaining: 1m 4s\n",
      "307:\ttotal: 1m 42s\tremaining: 1m 3s\n",
      "308:\ttotal: 1m 42s\tremaining: 1m 3s\n",
      "309:\ttotal: 1m 42s\tremaining: 1m 3s\n",
      "310:\ttotal: 1m 43s\tremaining: 1m 2s\n",
      "311:\ttotal: 1m 43s\tremaining: 1m 2s\n",
      "312:\ttotal: 1m 43s\tremaining: 1m 1s\n",
      "313:\ttotal: 1m 43s\tremaining: 1m 1s\n",
      "314:\ttotal: 1m 43s\tremaining: 1m 1s\n",
      "315:\ttotal: 1m 44s\tremaining: 1m\n",
      "316:\ttotal: 1m 44s\tremaining: 1m\n",
      "317:\ttotal: 1m 44s\tremaining: 59.9s\n",
      "318:\ttotal: 1m 44s\tremaining: 59.5s\n",
      "319:\ttotal: 1m 44s\tremaining: 59.1s\n",
      "320:\ttotal: 1m 45s\tremaining: 58.7s\n",
      "321:\ttotal: 1m 45s\tremaining: 58.3s\n",
      "322:\ttotal: 1m 45s\tremaining: 57.9s\n",
      "323:\ttotal: 1m 45s\tremaining: 57.5s\n",
      "324:\ttotal: 1m 46s\tremaining: 57.1s\n",
      "325:\ttotal: 1m 46s\tremaining: 56.7s\n",
      "326:\ttotal: 1m 46s\tremaining: 56.3s\n",
      "327:\ttotal: 1m 46s\tremaining: 55.9s\n",
      "328:\ttotal: 1m 46s\tremaining: 55.5s\n",
      "329:\ttotal: 1m 46s\tremaining: 55.1s\n",
      "330:\ttotal: 1m 47s\tremaining: 54.7s\n",
      "331:\ttotal: 1m 47s\tremaining: 54.3s\n",
      "332:\ttotal: 1m 47s\tremaining: 54s\n",
      "333:\ttotal: 1m 47s\tremaining: 53.6s\n",
      "334:\ttotal: 1m 47s\tremaining: 53.2s\n",
      "335:\ttotal: 1m 48s\tremaining: 52.8s\n",
      "336:\ttotal: 1m 48s\tremaining: 52.4s\n",
      "337:\ttotal: 1m 48s\tremaining: 52s\n",
      "338:\ttotal: 1m 48s\tremaining: 51.7s\n",
      "339:\ttotal: 1m 48s\tremaining: 51.3s\n",
      "340:\ttotal: 1m 49s\tremaining: 50.9s\n",
      "341:\ttotal: 1m 49s\tremaining: 50.5s\n",
      "342:\ttotal: 1m 49s\tremaining: 50.1s\n",
      "343:\ttotal: 1m 49s\tremaining: 49.8s\n",
      "344:\ttotal: 1m 49s\tremaining: 49.4s\n",
      "345:\ttotal: 1m 50s\tremaining: 49s\n",
      "346:\ttotal: 1m 50s\tremaining: 48.6s\n",
      "347:\ttotal: 1m 50s\tremaining: 48.3s\n",
      "348:\ttotal: 1m 50s\tremaining: 47.9s\n",
      "349:\ttotal: 1m 50s\tremaining: 47.5s\n",
      "350:\ttotal: 1m 51s\tremaining: 47.2s\n",
      "351:\ttotal: 1m 51s\tremaining: 46.8s\n",
      "352:\ttotal: 1m 51s\tremaining: 46.4s\n",
      "353:\ttotal: 1m 51s\tremaining: 46.1s\n",
      "354:\ttotal: 1m 51s\tremaining: 45.7s\n",
      "355:\ttotal: 1m 52s\tremaining: 45.3s\n",
      "356:\ttotal: 1m 52s\tremaining: 45s\n",
      "357:\ttotal: 1m 52s\tremaining: 44.6s\n",
      "358:\ttotal: 1m 52s\tremaining: 44.3s\n",
      "359:\ttotal: 1m 53s\tremaining: 44s\n",
      "360:\ttotal: 1m 53s\tremaining: 43.6s\n",
      "361:\ttotal: 1m 53s\tremaining: 43.3s\n",
      "362:\ttotal: 1m 53s\tremaining: 43s\n",
      "363:\ttotal: 1m 54s\tremaining: 42.6s\n",
      "364:\ttotal: 1m 54s\tremaining: 42.3s\n",
      "365:\ttotal: 1m 54s\tremaining: 41.9s\n",
      "366:\ttotal: 1m 54s\tremaining: 41.6s\n",
      "367:\ttotal: 1m 55s\tremaining: 41.3s\n",
      "368:\ttotal: 1m 55s\tremaining: 40.9s\n",
      "369:\ttotal: 1m 55s\tremaining: 40.6s\n",
      "370:\ttotal: 1m 55s\tremaining: 40.3s\n",
      "371:\ttotal: 1m 56s\tremaining: 39.9s\n",
      "372:\ttotal: 1m 56s\tremaining: 39.6s\n",
      "373:\ttotal: 1m 56s\tremaining: 39.2s\n",
      "374:\ttotal: 1m 56s\tremaining: 38.9s\n",
      "375:\ttotal: 1m 56s\tremaining: 38.6s\n",
      "376:\ttotal: 1m 57s\tremaining: 38.2s\n",
      "377:\ttotal: 1m 57s\tremaining: 37.9s\n",
      "378:\ttotal: 1m 57s\tremaining: 37.6s\n",
      "379:\ttotal: 1m 57s\tremaining: 37.2s\n",
      "380:\ttotal: 1m 58s\tremaining: 36.9s\n",
      "381:\ttotal: 1m 58s\tremaining: 36.5s\n",
      "382:\ttotal: 1m 58s\tremaining: 36.2s\n",
      "383:\ttotal: 1m 58s\tremaining: 35.8s\n",
      "384:\ttotal: 1m 58s\tremaining: 35.5s\n",
      "385:\ttotal: 1m 59s\tremaining: 35.2s\n",
      "386:\ttotal: 1m 59s\tremaining: 34.8s\n",
      "387:\ttotal: 1m 59s\tremaining: 34.5s\n",
      "388:\ttotal: 1m 59s\tremaining: 34.1s\n",
      "389:\ttotal: 1m 59s\tremaining: 33.8s\n",
      "390:\ttotal: 2m\tremaining: 33.5s\n",
      "391:\ttotal: 2m\tremaining: 33.1s\n",
      "392:\ttotal: 2m\tremaining: 32.8s\n",
      "393:\ttotal: 2m\tremaining: 32.4s\n",
      "394:\ttotal: 2m\tremaining: 32.1s\n",
      "395:\ttotal: 2m\tremaining: 31.8s\n",
      "396:\ttotal: 2m 1s\tremaining: 31.4s\n",
      "397:\ttotal: 2m 1s\tremaining: 31.1s\n",
      "398:\ttotal: 2m 1s\tremaining: 30.8s\n",
      "399:\ttotal: 2m 1s\tremaining: 30.5s\n",
      "400:\ttotal: 2m 2s\tremaining: 30.1s\n",
      "401:\ttotal: 2m 2s\tremaining: 29.8s\n",
      "402:\ttotal: 2m 2s\tremaining: 29.5s\n",
      "403:\ttotal: 2m 2s\tremaining: 29.1s\n",
      "404:\ttotal: 2m 2s\tremaining: 28.8s\n",
      "405:\ttotal: 2m 3s\tremaining: 28.5s\n",
      "406:\ttotal: 2m 3s\tremaining: 28.2s\n",
      "407:\ttotal: 2m 3s\tremaining: 27.8s\n",
      "408:\ttotal: 2m 3s\tremaining: 27.5s\n",
      "409:\ttotal: 2m 3s\tremaining: 27.2s\n",
      "410:\ttotal: 2m 3s\tremaining: 26.8s\n",
      "411:\ttotal: 2m 4s\tremaining: 26.5s\n",
      "412:\ttotal: 2m 4s\tremaining: 26.2s\n",
      "413:\ttotal: 2m 4s\tremaining: 25.9s\n",
      "414:\ttotal: 2m 4s\tremaining: 25.6s\n",
      "415:\ttotal: 2m 4s\tremaining: 25.2s\n",
      "416:\ttotal: 2m 5s\tremaining: 24.9s\n",
      "417:\ttotal: 2m 5s\tremaining: 24.6s\n",
      "418:\ttotal: 2m 5s\tremaining: 24.3s\n",
      "419:\ttotal: 2m 5s\tremaining: 23.9s\n",
      "420:\ttotal: 2m 5s\tremaining: 23.6s\n",
      "421:\ttotal: 2m 6s\tremaining: 23.3s\n",
      "422:\ttotal: 2m 6s\tremaining: 23s\n",
      "423:\ttotal: 2m 6s\tremaining: 22.7s\n",
      "424:\ttotal: 2m 6s\tremaining: 22.4s\n",
      "425:\ttotal: 2m 6s\tremaining: 22s\n",
      "426:\ttotal: 2m 7s\tremaining: 21.7s\n",
      "427:\ttotal: 2m 7s\tremaining: 21.4s\n",
      "428:\ttotal: 2m 7s\tremaining: 21.1s\n",
      "429:\ttotal: 2m 7s\tremaining: 20.8s\n",
      "430:\ttotal: 2m 7s\tremaining: 20.5s\n",
      "431:\ttotal: 2m 8s\tremaining: 20.2s\n",
      "432:\ttotal: 2m 8s\tremaining: 19.9s\n",
      "433:\ttotal: 2m 8s\tremaining: 19.6s\n",
      "434:\ttotal: 2m 8s\tremaining: 19.2s\n",
      "435:\ttotal: 2m 9s\tremaining: 18.9s\n",
      "436:\ttotal: 2m 9s\tremaining: 18.6s\n",
      "437:\ttotal: 2m 9s\tremaining: 18.3s\n",
      "438:\ttotal: 2m 9s\tremaining: 18s\n",
      "439:\ttotal: 2m 9s\tremaining: 17.7s\n",
      "440:\ttotal: 2m 10s\tremaining: 17.4s\n",
      "441:\ttotal: 2m 10s\tremaining: 17.1s\n",
      "442:\ttotal: 2m 10s\tremaining: 16.8s\n",
      "443:\ttotal: 2m 10s\tremaining: 16.5s\n",
      "444:\ttotal: 2m 11s\tremaining: 16.2s\n",
      "445:\ttotal: 2m 11s\tremaining: 15.9s\n",
      "446:\ttotal: 2m 11s\tremaining: 15.6s\n",
      "447:\ttotal: 2m 11s\tremaining: 15.3s\n",
      "448:\ttotal: 2m 11s\tremaining: 15s\n",
      "449:\ttotal: 2m 12s\tremaining: 14.7s\n",
      "450:\ttotal: 2m 12s\tremaining: 14.4s\n",
      "451:\ttotal: 2m 12s\tremaining: 14.1s\n",
      "452:\ttotal: 2m 12s\tremaining: 13.8s\n",
      "453:\ttotal: 2m 13s\tremaining: 13.5s\n",
      "454:\ttotal: 2m 13s\tremaining: 13.2s\n",
      "455:\ttotal: 2m 13s\tremaining: 12.9s\n",
      "456:\ttotal: 2m 13s\tremaining: 12.6s\n",
      "457:\ttotal: 2m 13s\tremaining: 12.3s\n",
      "458:\ttotal: 2m 14s\tremaining: 12s\n",
      "459:\ttotal: 2m 14s\tremaining: 11.7s\n",
      "460:\ttotal: 2m 14s\tremaining: 11.4s\n",
      "461:\ttotal: 2m 14s\tremaining: 11.1s\n",
      "462:\ttotal: 2m 14s\tremaining: 10.8s\n",
      "463:\ttotal: 2m 15s\tremaining: 10.5s\n",
      "464:\ttotal: 2m 15s\tremaining: 10.2s\n",
      "465:\ttotal: 2m 15s\tremaining: 9.89s\n",
      "466:\ttotal: 2m 15s\tremaining: 9.59s\n",
      "467:\ttotal: 2m 15s\tremaining: 9.3s\n",
      "468:\ttotal: 2m 16s\tremaining: 9s\n",
      "469:\ttotal: 2m 16s\tremaining: 8.71s\n",
      "470:\ttotal: 2m 16s\tremaining: 8.41s\n",
      "471:\ttotal: 2m 16s\tremaining: 8.12s\n",
      "472:\ttotal: 2m 17s\tremaining: 7.82s\n",
      "473:\ttotal: 2m 17s\tremaining: 7.53s\n",
      "474:\ttotal: 2m 17s\tremaining: 7.24s\n",
      "475:\ttotal: 2m 17s\tremaining: 6.94s\n",
      "476:\ttotal: 2m 17s\tremaining: 6.65s\n",
      "477:\ttotal: 2m 18s\tremaining: 6.36s\n",
      "478:\ttotal: 2m 18s\tremaining: 6.06s\n",
      "479:\ttotal: 2m 18s\tremaining: 5.77s\n",
      "480:\ttotal: 2m 18s\tremaining: 5.48s\n",
      "481:\ttotal: 2m 18s\tremaining: 5.19s\n",
      "482:\ttotal: 2m 19s\tremaining: 4.9s\n",
      "483:\ttotal: 2m 19s\tremaining: 4.61s\n",
      "484:\ttotal: 2m 19s\tremaining: 4.32s\n",
      "485:\ttotal: 2m 19s\tremaining: 4.03s\n",
      "486:\ttotal: 2m 19s\tremaining: 3.74s\n",
      "487:\ttotal: 2m 20s\tremaining: 3.45s\n",
      "488:\ttotal: 2m 20s\tremaining: 3.16s\n",
      "489:\ttotal: 2m 20s\tremaining: 2.87s\n",
      "490:\ttotal: 2m 20s\tremaining: 2.58s\n",
      "491:\ttotal: 2m 21s\tremaining: 2.29s\n",
      "492:\ttotal: 2m 21s\tremaining: 2s\n",
      "493:\ttotal: 2m 21s\tremaining: 1.72s\n",
      "494:\ttotal: 2m 21s\tremaining: 1.43s\n",
      "495:\ttotal: 2m 21s\tremaining: 1.14s\n",
      "496:\ttotal: 2m 22s\tremaining: 857ms\n",
      "497:\ttotal: 2m 22s\tremaining: 571ms\n",
      "498:\ttotal: 2m 22s\tremaining: 285ms\n",
      "499:\ttotal: 2m 22s\tremaining: 0us\n",
      "AUC: 0.844\n"
     ]
    },
    {
     "data": {
      "image/png": "[encoded data removed]",
      "text/plain": [
       "<Figure size 432x288 with 1 Axes>"
      ]
     },
     "metadata": {},
     "output_type": "display_data"
    }
   ],
   "source": [
    "label_ratio = (y==1).sum()/(y==0).sum()\n",
    "clf_cb_best = cb.CatBoostClassifier(eval_metric=\"AUC\", depth=10, iterations=500, l2_leaf_reg=1,\n",
    "                            learning_rate=0.15, scale_pos_weight = label_ratio)\n",
    "\n",
    "clf_cb_best.fit(train_x, train_y)\n",
    "predict_be = clf_cb_best.predict_proba(test_x)[:, 1]\n",
    "auc = roc_auc_score(test_y,predict_be) \n",
    "print(\"AUC: %.3f\" % auc)\n",
    "fpr, tpr, thresholds = roc_curve(test_y, predict_be)\n",
    "plt.plot([0, 1], [0, 1], linestyle = \"--\")\n",
    "plt.plot(fpr, tpr, marker = \".\")\n",
    "plt.show()"
   ]
  },
  {
   "cell_type": "markdown",
   "id": "718b37a6",
   "metadata": {},
   "source": [
    "### BalancedBaggingClassifier"
   ]
  },
  {
   "cell_type": "code",
   "execution_count": 108,
   "id": "c780232b",
   "metadata": {},
   "outputs": [
    {
     "name": "stdout",
     "output_type": "stream",
     "text": [
      "AUC: 0.719\n"
     ]
    },
    {
     "data": {
      "image/png": "[encoded data removed]",
      "text/plain": [
       "<Figure size 432x360 with 1 Axes>"
      ]
     },
     "metadata": {},
     "output_type": "display_data"
    }
   ],
   "source": [
    "bbc = BalancedBaggingClassifier(base_estimator=DecisionTreeClassifier(),\n",
    "                                sampling_strategy='auto',\n",
    "                                replacement=False,\n",
    "                                random_state=0)\n",
    "bbc.fit(train_x, train_y)\n",
    "preds = bbc.predict(test_x)\n",
    "auc = roc_auc_score(test_y, preds)\n",
    "print(\"AUC: %.3f\" % auc)\n",
    "fpr, tpr, thresholds = roc_curve(test_y, preds)\n",
    "plt.plot([0, 1], [0, 1], linestyle = \"--\")\n",
    "plt.plot(fpr, tpr, marker = \".\")\n",
    "plt.show()"
   ]
  },
  {
   "cell_type": "code",
   "execution_count": 109,
   "id": "0a208e5d",
   "metadata": {},
   "outputs": [
    {
     "name": "stdout",
     "output_type": "stream",
     "text": [
      "AUC: 0.764\n"
     ]
    },
    {
     "data": {
      "image/png": "[encoded data removed]",
      "text/plain": [
       "<Figure size 432x360 with 1 Axes>"
      ]
     },
     "metadata": {},
     "output_type": "display_data"
    }
   ],
   "source": [
    "blc = BalancedRandomForestClassifier()\n",
    "blc.fit(train_x, train_y)\n",
    "preds = blc.predict(test_x)\n",
    "auc = roc_auc_score(test_y, preds)\n",
    "print(\"AUC: %.3f\" % auc)\n",
    "fpr, tpr, thresholds = roc_curve(test_y, preds)\n",
    "plt.plot([0, 1], [0, 1], linestyle = \"--\")\n",
    "plt.plot(fpr, tpr, marker = \".\")\n",
    "plt.show()"
   ]
  },
  {
   "cell_type": "markdown",
   "id": "9763674d",
   "metadata": {},
   "source": [
    "## SMOTE MLP"
   ]
  },
  {
   "cell_type": "code",
   "execution_count": 115,
   "id": "bf208af7",
   "metadata": {},
   "outputs": [
    {
     "name": "stdout",
     "output_type": "stream",
     "text": [
      "AUC: 0.843\n"
     ]
    },
    {
     "data": {
      "image/png": "[encoded data removed]",
      "text/plain": [
       "<Figure size 432x360 with 1 Axes>"
      ]
     },
     "metadata": {},
     "output_type": "display_data"
    }
   ],
   "source": [
    "sm = SMOTE(random_state=42, k_neighbors=5)\n",
    "X_res, y_res = sm.fit_resample(x, y)\n",
    "x_train, x_test, y_train, y_test = train_test_split(X_res, y_res, test_size=0.2, random_state=42)\n",
    "mlp = MLPClassifier(random_state=42, max_iter=500)\n",
    "mlp.fit(x_train, y_train)\n",
    "probs = mlp.predict_proba(test_x)[:, 1]\n",
    "auc = roc_auc_score(test_y, probs)\n",
    "print(\"AUC: %.3f\" % auc)\n",
    "fpr, tpr, thresholds = roc_curve(test_y, probs)\n",
    "plt.plot([0, 1], [0, 1], linestyle = \"--\")\n",
    "plt.plot(fpr, tpr, marker = \".\")\n",
    "plt.show()"
   ]
  },
  {
   "cell_type": "markdown",
   "id": "0b51728d",
   "metadata": {},
   "source": [
    "## SMOTE xgboost"
   ]
  },
  {
   "cell_type": "code",
   "execution_count": 116,
   "id": "b0cdf589",
   "metadata": {},
   "outputs": [
    {
     "name": "stdout",
     "output_type": "stream",
     "text": [
      "AUC: 0.822\n"
     ]
    },
    {
     "data": {
      "image/png": "[encoded data removed]",
      "text/plain": [
       "<Figure size 432x360 with 1 Axes>"
      ]
     },
     "metadata": {},
     "output_type": "display_data"
    }
   ],
   "source": [
    "sm = SMOTE(random_state=42, k_neighbors=5)\n",
    "X_res, y_res = sm.fit_resample(x, y)\n",
    "x_train, x_test, y_train, y_test = train_test_split(X_res, y_res, test_size=0.2, random_state=42)\n",
    "clf_1 = xgboost.XGBClassifier(objective = \"binary:logistic\", scale_pos_weight=34.63).fit(x_train,y_train) \n",
    "probs = clf_1.predict_proba(test_x)[:, 1]\n",
    "auc = roc_auc_score(test_y, probs)\n",
    "print(\"AUC: %.3f\" % auc)\n",
    "fpr, tpr, thresholds = roc_curve(test_y, probs)\n",
    "plt.plot([0, 1], [0, 1], linestyle = \"--\")\n",
    "plt.plot(fpr, tpr, marker = \".\")\n",
    "plt.show()"
   ]
  },
  {
   "cell_type": "markdown",
   "id": "6a6ec5ff",
   "metadata": {},
   "source": [
    "## Nearmiss MLP"
   ]
  },
  {
   "cell_type": "code",
   "execution_count": 124,
   "id": "f421f165",
   "metadata": {},
   "outputs": [
    {
     "name": "stdout",
     "output_type": "stream",
     "text": [
      "AUC: 0.597\n"
     ]
    },
    {
     "data": {
      "image/png": "[encoded data removed]",
      "text/plain": [
       "<Figure size 432x288 with 1 Axes>"
      ]
     },
     "metadata": {},
     "output_type": "display_data"
    }
   ],
   "source": [
    "nm = NearMiss()\n",
    "x_train_miss, y_train_miss = nm.fit_resample(train_x, train_y)\n",
    "mlp = MLPClassifier(random_state=42, max_iter=500)\n",
    "mlp.fit(x_train_miss, y_train_miss)\n",
    "probs = mlp.predict_proba(test_x)[:, 1]\n",
    "auc = roc_auc_score(test_y, probs)\n",
    "print(\"AUC: %.3f\" % auc)\n",
    "fpr, tpr, thresholds = roc_curve(test_y, probs)\n",
    "plt.plot([0, 1], [0, 1], linestyle = \"--\")\n",
    "plt.plot(fpr, tpr, marker = \".\")\n",
    "plt.show()"
   ]
  },
  {
   "cell_type": "markdown",
   "id": "9182135e",
   "metadata": {},
   "source": [
    "## Nearmiss xgboost"
   ]
  },
  {
   "cell_type": "code",
   "execution_count": 114,
   "id": "5177b347",
   "metadata": {},
   "outputs": [
    {
     "name": "stdout",
     "output_type": "stream",
     "text": [
      "AUC: 0.527\n"
     ]
    },
    {
     "data": {
      "image/png": "[encoded data removed]",
      "text/plain": [
       "<Figure size 432x360 with 1 Axes>"
      ]
     },
     "metadata": {},
     "output_type": "display_data"
    }
   ],
   "source": [
    "nm = NearMiss()\n",
    "x_train_miss, y_train_miss = nm.fit_resample(train_x, train_y)\n",
    "clf_1 = xgboost.XGBClassifier(objective = \"binary:logistic\", scale_pos_weight=34.63).fit(x_train_miss, y_train_miss) \n",
    "probs = clf_1.predict_proba(test_x)[:, 1]\n",
    "probs = clf_1.predict_proba(test_x)[:, 1]\n",
    "auc = roc_auc_score(test_y, probs)\n",
    "print(\"AUC: %.3f\" % auc)\n",
    "fpr, tpr, thresholds = roc_curve(test_y, probs)\n",
    "plt.plot([0, 1], [0, 1], linestyle = \"--\")\n",
    "plt.plot(fpr, tpr, marker = \".\")\n",
    "plt.show()"
   ]
  },
  {
   "cell_type": "markdown",
   "id": "f789b748",
   "metadata": {},
   "source": [
    "### Метод опорных векторов"
   ]
  },
  {
   "cell_type": "code",
   "execution_count": null,
   "id": "9924a9f2",
   "metadata": {},
   "outputs": [],
   "source": [
    "clf_proba = SVC(kernel = \"linear\", class_weight = {1: 33}).fit(train_x, train_y)\n",
    "auc = roc_auc_score(test_y, clf_proba.decision_function(test_x)[:, 1])\n",
    "print(\"AUC: %.3f\" % auc)\n",
    "fpr, tpr, thresholds = roc_curve(test_y, probs)\n",
    "plt.plot([0, 1], [0, 1], linestyle = \"--\")\n",
    "plt.plot(fpr, tpr, marker = \".\")\n",
    "plt.show()"
   ]
  },
  {
   "cell_type": "markdown",
   "id": "b39a474e",
   "metadata": {},
   "source": [
    "### Метод ближайших соседей"
   ]
  },
  {
   "cell_type": "code",
   "execution_count": null,
   "id": "643b90ca",
   "metadata": {},
   "outputs": [],
   "source": [
    "KNN_model = KNeighborsClassifier(n_neighbors=5)\n",
    "KNN_model.fit(train_x, train_y)\n",
    "probs = KNN_model.predict_proba(test_x)[:, 1]\n",
    "auc = roc_auc_score(test_y, probs)\n",
    "print(\"AUC: %.3f\" % auc)\n",
    "fpr, tpr, thresholds = roc_curve(test_y, probs)\n",
    "plt.plot([0, 1], [0, 1], linestyle = \"--\")\n",
    "plt.plot(fpr, tpr, marker = \".\")\n",
    "plt.show()"
   ]
  }
 ],
 "metadata": {
  "kernelspec": {
   "display_name": "Python 3 (ipykernel)",
   "language": "python",
   "name": "python3"
  },
  "language_info": {
   "codemirror_mode": {
    "name": "ipython",
    "version": 3
   },
   "file_extension": ".py",
   "mimetype": "text/x-python",
   "name": "python",
   "nbconvert_exporter": "python",
   "pygments_lexer": "ipython3",
   "version": "3.9.12"
  }
 },
 "nbformat": 4,
 "nbformat_minor": 5
}
